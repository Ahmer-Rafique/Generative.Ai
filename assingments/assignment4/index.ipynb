{
 "cells": [
  {
   "cell_type": "markdown",
   "metadata": {},
   "source": [
    "1. append()\n",
    "Description: Adds a single element to the end of the list.\n",
    "Syntax: list.append(element)\n",
    "Return Type: None"
   ]
  },
  {
   "cell_type": "code",
   "execution_count": null,
   "metadata": {},
   "outputs": [],
   "source": [
    "fruits = ['apple', 'banana']\n",
    "fruits.append('cherry')\n",
    "print(fruits)  # Output: ['apple', 'banana', 'cherry']"
   ]
  },
  {
   "cell_type": "markdown",
   "metadata": {},
   "source": [
    "2. extend()\n",
    "Description: Extends the list by appending elements from an iterable (e.g., another list).\n",
    "Syntax: list.extend(iterable)\n",
    "Return Type: None"
   ]
  },
  {
   "cell_type": "code",
   "execution_count": null,
   "metadata": {},
   "outputs": [],
   "source": [
    "fruits = ['apple', 'banana']\n",
    "fruits.extend(['cherry', 'date'])\n",
    "print(fruits)  # Output: ['apple', 'banana', 'cherry', 'date']"
   ]
  },
  {
   "cell_type": "markdown",
   "metadata": {},
   "source": [
    "3. insert()\n",
    "Description: Inserts an element at a specified position in the list.\n",
    "Syntax: list.insert(index, element)\n",
    "Return Type: None"
   ]
  },
  {
   "cell_type": "code",
   "execution_count": null,
   "metadata": {},
   "outputs": [],
   "source": [
    "fruits = ['apple', 'banana']\n",
    "fruits.insert(1, 'cherry')\n",
    "print(fruits)  # Output: ['apple', 'cherry', 'banana']"
   ]
  },
  {
   "cell_type": "markdown",
   "metadata": {},
   "source": [
    "4. remove()\n",
    "Description: Removes the first occurrence of a specified element in the list.\n",
    "Syntax: list.remove(element)\n",
    "Return Type: None"
   ]
  },
  {
   "cell_type": "code",
   "execution_count": null,
   "metadata": {},
   "outputs": [],
   "source": [
    "fruits = ['apple', 'banana', 'cherry']\n",
    "fruits.remove('banana')\n",
    "print(fruits)  # Output: ['apple', 'cherry']"
   ]
  },
  {
   "cell_type": "markdown",
   "metadata": {},
   "source": [
    "5. pop()\n",
    "Description: Removes and returns the element at the specified position in the list. If no index is specified, it removes and returns the last item.\n",
    "Syntax: list.pop([index])\n",
    "Return Type: The element removed from the list."
   ]
  },
  {
   "cell_type": "code",
   "execution_count": null,
   "metadata": {},
   "outputs": [],
   "source": [
    "fruits = ['apple', 'banana', 'cherry']\n",
    "removed_fruit = fruits.pop(1)\n",
    "print(removed_fruit)  # Output: 'banana'\n",
    "print(fruits)  # Output: ['apple', 'cherry']"
   ]
  },
  {
   "cell_type": "markdown",
   "metadata": {},
   "source": [
    "6. clear()\n",
    "Description: Removes all elements from the list, leaving it empty.\n",
    "Syntax: list.clear()\n",
    "Return Type: None"
   ]
  },
  {
   "cell_type": "code",
   "execution_count": null,
   "metadata": {},
   "outputs": [],
   "source": [
    "fruits = ['apple', 'banana', 'cherry']\n",
    "fruits.clear()\n",
    "print(fruits)  # Output: []"
   ]
  },
  {
   "cell_type": "markdown",
   "metadata": {},
   "source": [
    "index()\n",
    "Description: Returns the index of the first occurrence of a specified element in the list.\n",
    "Syntax: list.index(element[, start[, end]])\n",
    "Return Type: int"
   ]
  },
  {
   "cell_type": "code",
   "execution_count": null,
   "metadata": {},
   "outputs": [],
   "source": [
    "fruits = ['apple', 'banana', 'cherry', 'banana']\n",
    "index = fruits.index('banana')\n",
    "print(index)  # Output: 1\n"
   ]
  },
  {
   "cell_type": "markdown",
   "metadata": {},
   "source": [
    "8. count()\n",
    "Description: Returns the number of occurrences of a specified element in the list.\n",
    "Syntax: list.count(element)\n",
    "Return Type: int"
   ]
  },
  {
   "cell_type": "code",
   "execution_count": null,
   "metadata": {},
   "outputs": [],
   "source": [
    "fruits = ['apple', 'banana', 'cherry', 'banana']\n",
    "count = fruits.count('banana')\n",
    "print(count)  # Output: 2\n"
   ]
  },
  {
   "cell_type": "markdown",
   "metadata": {},
   "source": [
    "9. sort()\n",
    "Description: Sorts the elements of the list in ascending order by default. Can be customized with optional parameters.\n",
    "Syntax: list.sort(key=None, reverse=False)\n",
    "Return Type: None"
   ]
  },
  {
   "cell_type": "code",
   "execution_count": null,
   "metadata": {},
   "outputs": [],
   "source": [
    "numbers = [3, 1, 4, 1, 5]\n",
    "numbers.sort()\n",
    "print(numbers)  # Output: [1, 1, 3, 4, 5]\n",
    "\n",
    "numbers.sort(reverse=True)\n",
    "print(numbers)  # Output: [5, 4, 3, 1, 1]\n"
   ]
  },
  {
   "cell_type": "markdown",
   "metadata": {},
   "source": [
    "10. reverse()\n",
    "Description: Reverses the elements of the list in place.\n",
    "Syntax: list.reverse()\n",
    "Return Type: None"
   ]
  },
  {
   "cell_type": "code",
   "execution_count": null,
   "metadata": {},
   "outputs": [],
   "source": [
    "fruits = ['apple', 'banana', 'cherry']\n",
    "fruits.reverse()\n",
    "print(fruits)  # Output: ['cherry', 'banana', 'apple']\n"
   ]
  },
  {
   "cell_type": "markdown",
   "metadata": {},
   "source": [
    "11. copy()\n",
    "Description: Returns a shallow copy of the list.\n",
    "Syntax: list.copy()\n",
    "Return Type: A new list."
   ]
  },
  {
   "cell_type": "code",
   "execution_count": null,
   "metadata": {},
   "outputs": [],
   "source": [
    "fruits = ['apple', 'banana', 'cherry']\n",
    "fruits_copy = fruits.copy()\n",
    "print(fruits_copy)  # Output: ['apple', 'banana', 'cherry']\n"
   ]
  },
  {
   "cell_type": "markdown",
   "metadata": {},
   "source": [
    "Additional Methods\n",
    "len()\n",
    "Description: Returns the number of elements in a list.\n",
    "Syntax: len(list)\n",
    "Return Type: int"
   ]
  },
  {
   "cell_type": "code",
   "execution_count": null,
   "metadata": {},
   "outputs": [],
   "source": [
    "fruits = ['apple', 'banana', 'cherry']\n",
    "length = len(fruits)\n",
    "print(length)  # Output: 3\n"
   ]
  }
 ],
 "metadata": {
  "language_info": {
   "name": "python"
  }
 },
 "nbformat": 4,
 "nbformat_minor": 2
}
