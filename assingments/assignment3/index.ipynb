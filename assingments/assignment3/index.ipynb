{
 "cells": [
  {
   "cell_type": "markdown",
   "metadata": {},
   "source": [
    "Exercise3.1"
   ]
  },
  {
   "cell_type": "code",
   "execution_count": null,
   "metadata": {},
   "outputs": [],
   "source": [
    "names = [\"Anas\", \"Hassan\", \"tosif\", \"basit\", \"mamoon\"]\n",
    "for name in names:\n",
    "    print(name)"
   ]
  },
  {
   "cell_type": "markdown",
   "metadata": {},
   "source": [
    "Exercise3.2"
   ]
  },
  {
   "cell_type": "code",
   "execution_count": null,
   "metadata": {},
   "outputs": [],
   "source": [
    "names = [\"Anas\", \"Hassan\", \"tosif\", \"basit\", \"mamoon\"]\n",
    "for name in names:\n",
    "    print(f\"Hello {name} , how are you dear?\")"
   ]
  },
  {
   "cell_type": "markdown",
   "metadata": {},
   "source": [
    "Exercise3.3"
   ]
  },
  {
   "cell_type": "code",
   "execution_count": null,
   "metadata": {},
   "outputs": [],
   "source": [
    "transpotations_Modes=[\"Motersycle\", \"Tesla car\",\"Civic Car\" , \"Range Rover\"]\n",
    "for mode in transpotations_Modes:\n",
    "    print(f\"I would like to own a {mode}\")"
   ]
  },
  {
   "cell_type": "markdown",
   "metadata": {},
   "source": [
    "Exercise 3.4"
   ]
  },
  {
   "cell_type": "code",
   "execution_count": null,
   "metadata": {},
   "outputs": [],
   "source": [
    "Guestes:list=[\"Anas\",\"AbuBakar\",\"Basit\"];\n",
    "for guest in Guestes:\n",
    "    print(f\"Dear {guest}, you are cordially invited to dinner. I would be honored by your presence.\");"
   ]
  },
  {
   "cell_type": "markdown",
   "metadata": {},
   "source": [
    "Exercise 3.5"
   ]
  },
  {
   "cell_type": "code",
   "execution_count": null,
   "metadata": {},
   "outputs": [],
   "source": [
    "Guestes:list=[\"Anas\",\"AbuBakar\",\"Basit\"];\n",
    "for guest in Guestes:\n",
    "    print(f\"Dear {guest}, you are cordially invited to dinner. I would be honored by your presence.\");\n",
    "new_Guest=Guestes[1];\n",
    "print(f\"\\nUnfortunately, {new_Guest} can't make it to the dinner.\")\n",
    "Guestes[1] = \"Mamoon\";\n",
    "print(\"\\nNew set of invitations:\");\n",
    "for guest in Guestes:\n",
    "    print(f\"Dear {guest}, you are cordially invited to dinner. I would be honored by your presence.\");\n"
   ]
  },
  {
   "cell_type": "markdown",
   "metadata": {},
   "source": [
    "Exercise 3.6"
   ]
  },
  {
   "cell_type": "code",
   "execution_count": null,
   "metadata": {},
   "outputs": [],
   "source": [
    "Guests = [\"Anas\", \"AbuBakr\", \"Basit\"]\n",
    "for guest in Guests:\n",
    "    print(f\"Dear {guest}, you are cordially invited to dinner. I would be honored by your presence.\")\n",
    "new_Guest =  Guests[1]\n",
    "print(f\"\\nUnfortunately, {new_Guest} can't make it to the dinner.\")\n",
    "Guests[1] = \"Mamon\"\n",
    "print(\"\\nNew set of invitations after replacing a guest:\")\n",
    "for guest in Guests:\n",
    "    print(f\"Dear {guest}, you are cordially invited to dinner. I would be honored by your presence.\")\n",
    "print(\"\\nGreat news! We found a bigger table, so we can invite more guests.\")\n",
    "Guests.insert(0, \"Ahmar\")\n",
    "middle_index = len(Guests) // 2\n",
    "Guests.insert(middle_index, \"Taswar\")\n",
    "Guests.append(\"Ali\")\n",
    "print(\"\\nFinal set of invitations with additional guests:\")\n",
    "for guest in Guests:\n",
    "    print(f\"Dear {guest}, you are cordially invited to dinner. I would be honored by your presence.\")\n"
   ]
  }
 ],
 "metadata": {
  "kernelspec": {
   "display_name": "Python 3",
   "language": "python",
   "name": "python3"
  },
  "language_info": {
   "codemirror_mode": {
    "name": "ipython",
    "version": 3
   },
   "file_extension": ".py",
   "mimetype": "text/x-python",
   "name": "python",
   "nbconvert_exporter": "python",
   "pygments_lexer": "ipython3",
   "version": "3.12.4"
  }
 },
 "nbformat": 4,
 "nbformat_minor": 2
}
