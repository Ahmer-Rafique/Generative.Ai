{
 "cells": [
  {
   "cell_type": "markdown",
   "metadata": {},
   "source": [
    "Exercise3.1"
   ]
  },
  {
   "cell_type": "code",
   "execution_count": 4,
   "metadata": {},
   "outputs": [
    {
     "name": "stdout",
     "output_type": "stream",
     "text": [
      "Anas\n",
      "Hassan\n",
      "tosif\n",
      "basit\n",
      "mamoon\n"
     ]
    }
   ],
   "source": [
    "names = [\"Anas\", \"Hassan\", \"tosif\", \"basit\", \"mamoon\"]\n",
    "for name in names:\n",
    "    print(name)"
   ]
  },
  {
   "cell_type": "markdown",
   "metadata": {},
   "source": [
    "Exercise3.2"
   ]
  },
  {
   "cell_type": "code",
   "execution_count": 7,
   "metadata": {},
   "outputs": [
    {
     "name": "stdout",
     "output_type": "stream",
     "text": [
      "Hello Anas , how are you dear?\n",
      "Hello Hassan , how are you dear?\n",
      "Hello tosif , how are you dear?\n",
      "Hello basit , how are you dear?\n",
      "Hello mamoon , how are you dear?\n"
     ]
    }
   ],
   "source": [
    "names = [\"Anas\", \"Hassan\", \"tosif\", \"basit\", \"mamoon\"]\n",
    "for name in names:\n",
    "    print(f\"Hello {name} , how are you dear?\")"
   ]
  },
  {
   "cell_type": "markdown",
   "metadata": {},
   "source": [
    "Exercise3.3"
   ]
  },
  {
   "cell_type": "code",
   "execution_count": null,
   "metadata": {},
   "outputs": [],
   "source": [
    "transpotations_Modes=[\"Motersycle\", \"Tesla car\",\"Civic Car\" , \"Range Rover\"]\n",
    "for mode in transpotations_Modes:\n",
    "    print(f\"I would like to own a {mode}\")"
   ]
  }
 ],
 "metadata": {
  "kernelspec": {
   "display_name": "Python 3",
   "language": "python",
   "name": "python3"
  },
  "language_info": {
   "codemirror_mode": {
    "name": "ipython",
    "version": 3
   },
   "file_extension": ".py",
   "mimetype": "text/x-python",
   "name": "python",
   "nbconvert_exporter": "python",
   "pygments_lexer": "ipython3",
   "version": "3.12.4"
  }
 },
 "nbformat": 4,
 "nbformat_minor": 2
}
