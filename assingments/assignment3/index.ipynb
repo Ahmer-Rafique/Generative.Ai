{
 "cells": [
  {
   "cell_type": "markdown",
   "metadata": {},
   "source": [
    "Exercise3.1"
   ]
  },
  {
   "cell_type": "code",
   "execution_count": 1,
   "metadata": {},
   "outputs": [
    {
     "name": "stdout",
     "output_type": "stream",
     "text": [
      "Anas\n",
      "Hassan\n",
      "tosif\n",
      "basit\n",
      "mamoon\n"
     ]
    }
   ],
   "source": [
    "names = [\"Anas\", \"Hassan\", \"tosif\", \"basit\", \"mamoon\"]\n",
    "for name in names:\n",
    "    print(name)"
   ]
  },
  {
   "cell_type": "markdown",
   "metadata": {},
   "source": [
    "Exercise3.2"
   ]
  },
  {
   "cell_type": "code",
   "execution_count": 2,
   "metadata": {},
   "outputs": [
    {
     "name": "stdout",
     "output_type": "stream",
     "text": [
      "Hello Anas , how are you dear?\n",
      "Hello Hassan , how are you dear?\n",
      "Hello tosif , how are you dear?\n",
      "Hello basit , how are you dear?\n",
      "Hello mamoon , how are you dear?\n"
     ]
    }
   ],
   "source": [
    "names = [\"Anas\", \"Hassan\", \"tosif\", \"basit\", \"mamoon\"]\n",
    "for name in names:\n",
    "    print(f\"Hello {name} , how are you dear?\")"
   ]
  },
  {
   "cell_type": "markdown",
   "metadata": {},
   "source": [
    "Exercise3.3"
   ]
  },
  {
   "cell_type": "code",
   "execution_count": 3,
   "metadata": {},
   "outputs": [
    {
     "name": "stdout",
     "output_type": "stream",
     "text": [
      "I would like to own a Motersycle\n",
      "I would like to own a Tesla car\n",
      "I would like to own a Civic Car\n",
      "I would like to own a Range Rover\n"
     ]
    }
   ],
   "source": [
    "transpotations_Modes=[\"Motersycle\", \"Tesla car\",\"Civic Car\" , \"Range Rover\"]\n",
    "for mode in transpotations_Modes:\n",
    "    print(f\"I would like to own a {mode}\")"
   ]
  },
  {
   "cell_type": "markdown",
   "metadata": {},
   "source": [
    "Exercise 3.4"
   ]
  },
  {
   "cell_type": "code",
   "execution_count": 4,
   "metadata": {},
   "outputs": [
    {
     "name": "stdout",
     "output_type": "stream",
     "text": [
      "Dear Anas, you are cordially invited to dinner. I would be honored by your presence.\n",
      "Dear AbuBakar, you are cordially invited to dinner. I would be honored by your presence.\n",
      "Dear Basit, you are cordially invited to dinner. I would be honored by your presence.\n"
     ]
    }
   ],
   "source": [
    "Guestes:list=[\"Anas\",\"AbuBakar\",\"Basit\"];\n",
    "for guest in Guestes:\n",
    "    print(f\"Dear {guest}, you are cordially invited to dinner. I would be honored by your presence.\");"
   ]
  },
  {
   "cell_type": "markdown",
   "metadata": {},
   "source": [
    "Exercise 3.5"
   ]
  },
  {
   "cell_type": "code",
   "execution_count": 5,
   "metadata": {},
   "outputs": [
    {
     "name": "stdout",
     "output_type": "stream",
     "text": [
      "Dear Anas, you are cordially invited to dinner. I would be honored by your presence.\n",
      "Dear AbuBakar, you are cordially invited to dinner. I would be honored by your presence.\n",
      "Dear Basit, you are cordially invited to dinner. I would be honored by your presence.\n",
      "\n",
      "Unfortunately, AbuBakar can't make it to the dinner.\n",
      "\n",
      "New set of invitations:\n",
      "Dear Anas, you are cordially invited to dinner. I would be honored by your presence.\n",
      "Dear Mamoon, you are cordially invited to dinner. I would be honored by your presence.\n",
      "Dear Basit, you are cordially invited to dinner. I would be honored by your presence.\n"
     ]
    }
   ],
   "source": [
    "Guestes:list=[\"Anas\",\"AbuBakar\",\"Basit\"];\n",
    "for guest in Guestes:\n",
    "    print(f\"Dear {guest}, you are cordially invited to dinner. I would be honored by your presence.\");\n",
    "new_Guest=Guestes[1];\n",
    "print(f\"\\nUnfortunately, {new_Guest} can't make it to the dinner.\")\n",
    "Guestes[1] = \"Mamoon\";\n",
    "print(\"\\nNew set of invitations:\");\n",
    "for guest in Guestes:\n",
    "    print(f\"Dear {guest}, you are cordially invited to dinner. I would be honored by your presence.\");\n"
   ]
  },
  {
   "cell_type": "markdown",
   "metadata": {},
   "source": [
    "Exercise 3.6"
   ]
  },
  {
   "cell_type": "code",
   "execution_count": 6,
   "metadata": {},
   "outputs": [
    {
     "name": "stdout",
     "output_type": "stream",
     "text": [
      "Dear Anas, you are cordially invited to dinner. I would be honored by your presence.\n",
      "Dear AbuBakr, you are cordially invited to dinner. I would be honored by your presence.\n",
      "Dear Basit, you are cordially invited to dinner. I would be honored by your presence.\n",
      "\n",
      "Unfortunately, AbuBakr can't make it to the dinner.\n",
      "\n",
      "New set of invitations after replacing a guest:\n",
      "Dear Anas, you are cordially invited to dinner. I would be honored by your presence.\n",
      "Dear Mamon, you are cordially invited to dinner. I would be honored by your presence.\n",
      "Dear Basit, you are cordially invited to dinner. I would be honored by your presence.\n",
      "\n",
      "Great news! We found a bigger table, so we can invite more guests.\n",
      "\n",
      "Final set of invitations with additional guests:\n",
      "Dear Ahmar, you are cordially invited to dinner. I would be honored by your presence.\n",
      "Dear Anas, you are cordially invited to dinner. I would be honored by your presence.\n",
      "Dear Taswar, you are cordially invited to dinner. I would be honored by your presence.\n",
      "Dear Mamon, you are cordially invited to dinner. I would be honored by your presence.\n",
      "Dear Basit, you are cordially invited to dinner. I would be honored by your presence.\n",
      "Dear Ali, you are cordially invited to dinner. I would be honored by your presence.\n"
     ]
    }
   ],
   "source": [
    "Guests = [\"Anas\", \"AbuBakr\", \"Basit\"]\n",
    "for guest in Guests:\n",
    "    print(f\"Dear {guest}, you are cordially invited to dinner. I would be honored by your presence.\")\n",
    "new_Guest =  Guests[1]\n",
    "print(f\"\\nUnfortunately, {new_Guest} can't make it to the dinner.\")\n",
    "Guests[1] = \"Mamon\"\n",
    "print(\"\\nNew set of invitations after replacing a guest:\")\n",
    "for guest in Guests:\n",
    "    print(f\"Dear {guest}, you are cordially invited to dinner. I would be honored by your presence.\")\n",
    "print(\"\\nGreat news! We found a bigger table, so we can invite more guests.\")\n",
    "Guests.insert(0, \"Ahmar\")\n",
    "middle_index = len(Guests) // 2\n",
    "Guests.insert(middle_index, \"Taswar\")\n",
    "Guests.append(\"Ali\")\n",
    "print(\"\\nFinal set of invitations with additional guests:\")\n",
    "for guest in Guests:\n",
    "    print(f\"Dear {guest}, you are cordially invited to dinner. I would be honored by your presence.\")\n"
   ]
  },
  {
   "cell_type": "markdown",
   "metadata": {},
   "source": [
    "Exercise 3.7"
   ]
  },
  {
   "cell_type": "code",
   "execution_count": 7,
   "metadata": {},
   "outputs": [
    {
     "name": "stdout",
     "output_type": "stream",
     "text": [
      "Dear Anas, you are cordially invited to dinner. I would be honored by your presence.\n",
      "Dear AbuBakr, you are cordially invited to dinner. I would be honored by your presence.\n",
      "Dear Basit, you are cordially invited to dinner. I would be honored by your presence.\n",
      "\n",
      "Unfortunately, AbuBakr can't make it to the dinner.\n",
      "\n",
      "New set of invitations after replacing a guest:\n",
      "Dear Anas, you are cordially invited to dinner. I would be honored by your presence.\n",
      "Dear Mamon, you are cordially invited to dinner. I would be honored by your presence.\n",
      "Dear Basit, you are cordially invited to dinner. I would be honored by your presence.\n",
      "\n",
      "Great news! We found a bigger table, so we can invite more guests.\n",
      "\n",
      "Final set of invitations with additional guests:\n",
      "Dear Ahmar, you are cordially invited to dinner. I would be honored by your presence.\n",
      "Dear Anas, you are cordially invited to dinner. I would be honored by your presence.\n",
      "Dear Taswar, you are cordially invited to dinner. I would be honored by your presence.\n",
      "Dear Mamon, you are cordially invited to dinner. I would be honored by your presence.\n",
      "Dear Basit, you are cordially invited to dinner. I would be honored by your presence.\n",
      "Dear Ali, you are cordially invited to dinner. I would be honored by your presence.\n",
      "\n",
      "Unfortunately, due to limited space, we can only invite two people for dinner.\n",
      "Dear Ali, I'm sorry to inform you that we can't invite you to dinner due to space limitations.\n",
      "Dear Basit, I'm sorry to inform you that we can't invite you to dinner due to space limitations.\n",
      "Dear Mamon, I'm sorry to inform you that we can't invite you to dinner due to space limitations.\n",
      "Dear Taswar, I'm sorry to inform you that we can't invite you to dinner due to space limitations.\n",
      "\n",
      "You're still invited:\n",
      "Dear Ahmar, you're still invited to dinner. Looking forward to your company!\n",
      "Dear Anas, you're still invited to dinner. Looking forward to your company!\n",
      "\n",
      "Final guest list: []\n"
     ]
    }
   ],
   "source": [
    "Guests = [\"Anas\", \"AbuBakr\", \"Basit\"]\n",
    "for guest in Guests:\n",
    "    print(f\"Dear {guest}, you are cordially invited to dinner. I would be honored by your presence.\")\n",
    "new_Guest =  Guests[1]\n",
    "print(f\"\\nUnfortunately, {new_Guest} can't make it to the dinner.\")\n",
    "Guests[1] = \"Mamon\"\n",
    "print(\"\\nNew set of invitations after replacing a guest:\")\n",
    "for guest in Guests:\n",
    "    print(f\"Dear {guest}, you are cordially invited to dinner. I would be honored by your presence.\")\n",
    "print(\"\\nGreat news! We found a bigger table, so we can invite more guests.\")\n",
    "Guests.insert(0, \"Ahmar\")\n",
    "middle_index = len(Guests) // 2\n",
    "Guests.insert(middle_index, \"Taswar\")\n",
    "Guests.append(\"Ali\")\n",
    "print(\"\\nFinal set of invitations with additional guests:\")\n",
    "for guest in Guests:\n",
    "    print(f\"Dear {guest}, you are cordially invited to dinner. I would be honored by your presence.\")\n",
    "print(\"\\nUnfortunately, due to limited space, we can only invite two people for dinner.\")\n",
    "while len(Guests) > 2:\n",
    "    removed_guest = Guests.pop()\n",
    "    print(f\"Dear {removed_guest}, I'm sorry to inform you that we can't invite you to dinner due to space limitations.\")\n",
    "print(\"\\nYou're still invited:\")\n",
    "for guest in Guests:\n",
    "    print(f\"Dear {guest}, you're still invited to dinner. Looking forward to your company!\")\n",
    "del Guests[0]\n",
    "del Guests[0]\n",
    "# Print the list to ensure it's empty\n",
    "print(\"\\nFinal guest list:\", Guests);"
   ]
  },
  {
   "cell_type": "markdown",
   "metadata": {},
   "source": [
    "Exercise 3.8"
   ]
  },
  {
   "cell_type": "code",
   "execution_count": 8,
   "metadata": {},
   "outputs": [
    {
     "name": "stdout",
     "output_type": "stream",
     "text": [
      "Original list of places:\n",
      "['Lahore', 'kashmir', 'islamabad', 'Mauree', 'Bahawalpur']\n",
      "\n",
      "List in alphabetical order:\n",
      "['Bahawalpur', 'Lahore', 'Mauree', 'islamabad', 'kashmir']\n",
      "\n",
      "Original list after sorted():\n",
      "['Lahore', 'kashmir', 'islamabad', 'Mauree', 'Bahawalpur']\n",
      "\n",
      "List in reverse alphabetical order:\n",
      "['kashmir', 'islamabad', 'Mauree', 'Lahore', 'Bahawalpur']\n",
      "\n",
      "Original list after reverse sorted():\n",
      "['Lahore', 'kashmir', 'islamabad', 'Mauree', 'Bahawalpur']\n",
      "\n",
      "List after using reverse():\n",
      "['Bahawalpur', 'Mauree', 'islamabad', 'kashmir', 'Lahore']\n",
      "\n",
      "List after reversing again to original order:\n",
      "['Lahore', 'kashmir', 'islamabad', 'Mauree', 'Bahawalpur']\n",
      "\n",
      "List after using sort():\n",
      "['Bahawalpur', 'Lahore', 'Mauree', 'islamabad', 'kashmir']\n"
     ]
    }
   ],
   "source": [
    "places_to_visit = [\"Lahore\", \"kashmir\", \"islamabad\", \"Mauree\", \"Bahawalpur\"]\n",
    "print(\"Original list of places:\")\n",
    "print(places_to_visit)\n",
    "print(\"\\nList in alphabetical order:\")\n",
    "print(sorted(places_to_visit))\n",
    "print(\"\\nOriginal list after sorted():\")\n",
    "print(places_to_visit)\n",
    "print(\"\\nList in reverse alphabetical order:\")\n",
    "print(sorted(places_to_visit, reverse=True))\n",
    "print(\"\\nOriginal list after reverse sorted():\")\n",
    "print(places_to_visit)\n",
    "places_to_visit.reverse()\n",
    "print(\"\\nList after using reverse():\")\n",
    "print(places_to_visit)\n",
    "places_to_visit.reverse()\n",
    "print(\"\\nList after reversing again to original order:\")\n",
    "print(places_to_visit)\n",
    "places_to_visit.sort()\n",
    "print(\"\\nList after using sort():\")\n",
    "print(places_to_visit)\n"
   ]
  },
  {
   "cell_type": "markdown",
   "metadata": {},
   "source": [
    "Exercise 3.9"
   ]
  },
  {
   "cell_type": "code",
   "execution_count": 9,
   "metadata": {},
   "outputs": [
    {
     "name": "stdout",
     "output_type": "stream",
     "text": [
      "Original list of animals:\n",
      "['Elephant', 'Giraffe', 'Lion', 'Zebra', 'Kangaroo']\n",
      "\n",
      "First animal in the list: Elephant\n",
      "Last animal in the list: Kangaroo\n",
      "\n",
      "List after modifying an element:\n",
      "['Elephant', 'Giraffe', 'Tiger', 'Zebra', 'Kangaroo']\n",
      "\n",
      "List after appending an element:\n",
      "['Elephant', 'Giraffe', 'Tiger', 'Zebra', 'Kangaroo', 'Penguin']\n",
      "\n",
      "List after inserting an element:\n",
      "['Elephant', 'Giraffe', 'Tiger', 'Panda', 'Zebra', 'Kangaroo', 'Penguin']\n",
      "\n",
      "List after removing an element by value:\n",
      "['Elephant', 'Giraffe', 'Tiger', 'Panda', 'Kangaroo', 'Penguin']\n",
      "\n",
      "List after popping the last element:\n",
      "['Elephant', 'Giraffe', 'Tiger', 'Panda', 'Kangaroo']\n",
      "Popped animal: Penguin\n",
      "\n",
      "List after popping the first element:\n",
      "['Giraffe', 'Tiger', 'Panda', 'Kangaroo']\n",
      "Popped first animal: Elephant\n",
      "\n",
      "List after deleting an element by index:\n",
      "['Giraffe', 'Panda', 'Kangaroo']\n",
      "\n",
      "List in alphabetical order:\n",
      "['Giraffe', 'Kangaroo', 'Panda']\n",
      "\n",
      "Original list after sorted():\n",
      "['Giraffe', 'Panda', 'Kangaroo']\n",
      "\n",
      "List after using sort():\n",
      "['Giraffe', 'Kangaroo', 'Panda']\n",
      "\n",
      "List after using reverse():\n",
      "['Panda', 'Kangaroo', 'Giraffe']\n",
      "\n",
      "Number of animals in the list: 3\n"
     ]
    }
   ],
   "source": [
    "animals = [\"Elephant\", \"Giraffe\", \"Lion\", \"Zebra\", \"Kangaroo\"]\n",
    "print(\"Original list of animals:\")\n",
    "print(animals)\n",
    "print(\"\\nFirst animal in the list:\", animals[0])\n",
    "print(\"Last animal in the list:\", animals[-1])\n",
    "animals[2] = \"Tiger\"\n",
    "print(\"\\nList after modifying an element:\")\n",
    "print(animals)\n",
    "animals.append(\"Penguin\")\n",
    "print(\"\\nList after appending an element:\")\n",
    "print(animals)\n",
    "animals.insert(3, \"Panda\")\n",
    "print(\"\\nList after inserting an element:\")\n",
    "print(animals)\n",
    "animals.remove(\"Zebra\")\n",
    "print(\"\\nList after removing an element by value:\")\n",
    "print(animals)\n",
    "popped_animal = animals.pop()\n",
    "print(\"\\nList after popping the last element:\")\n",
    "print(animals)\n",
    "print(f\"Popped animal: {popped_animal}\")\n",
    "first_animal = animals.pop(0)\n",
    "print(\"\\nList after popping the first element:\")\n",
    "print(animals)\n",
    "print(f\"Popped first animal: {first_animal}\")\n",
    "del animals[1]\n",
    "print(\"\\nList after deleting an element by index:\")\n",
    "print(animals)\n",
    "print(\"\\nList in alphabetical order:\")\n",
    "print(sorted(animals))\n",
    "print(\"\\nOriginal list after sorted():\")\n",
    "print(animals)\n",
    "animals.sort()\n",
    "print(\"\\nList after using sort():\")\n",
    "print(animals)\n",
    "animals.reverse()\n",
    "print(\"\\nList after using reverse():\")\n",
    "print(animals)\n",
    "print(\"\\nNumber of animals in the list:\", len(animals))\n"
   ]
  },
  {
   "cell_type": "markdown",
   "metadata": {},
   "source": [
    "Exercise 3.10"
   ]
  },
  {
   "cell_type": "code",
   "execution_count": 10,
   "metadata": {},
   "outputs": [
    {
     "name": "stdout",
     "output_type": "stream",
     "text": [
      "Original list of animals:\n",
      "['Elephant', 'Giraffe', 'Lion', 'Zebra', 'Kangaroo']\n",
      "\n",
      "Attempting to access an element at an out-of-range index:\n",
      "IndexError occurred: list index out of range\n",
      "\n",
      "Accessing the last element using a valid index:\n",
      "Kangaroo\n"
     ]
    }
   ],
   "source": [
    "animals = [\"Elephant\", \"Giraffe\", \"Lion\", \"Zebra\", \"Kangaroo\"]\n",
    "print(\"Original list of animals:\")\n",
    "print(animals)\n",
    "try:\n",
    "    print(\"\\nAttempting to access an element at an out-of-range index:\")\n",
    "    print(animals[10])  # This will cause an IndexError\n",
    "except IndexError as e:\n",
    "    print(f\"IndexError occurred: {e}\")\n",
    "print(\"\\nAccessing the last element using a valid index:\")\n",
    "print(animals[-1]) "
   ]
  }
 ],
 "metadata": {
  "kernelspec": {
   "display_name": "Python 3",
   "language": "python",
   "name": "python3"
  },
  "language_info": {
   "codemirror_mode": {
    "name": "ipython",
    "version": 3
   },
   "file_extension": ".py",
   "mimetype": "text/x-python",
   "name": "python",
   "nbconvert_exporter": "python",
   "pygments_lexer": "ipython3",
   "version": "3.12.4"
  }
 },
 "nbformat": 4,
 "nbformat_minor": 2
}
