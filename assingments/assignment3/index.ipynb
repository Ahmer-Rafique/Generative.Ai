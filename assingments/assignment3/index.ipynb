{
 "cells": [
  {
   "cell_type": "markdown",
   "metadata": {},
   "source": [
    "Exercise3.1"
   ]
  },
  {
   "cell_type": "code",
   "execution_count": null,
   "metadata": {},
   "outputs": [],
   "source": [
    "names = [\"Anas\", \"Hassan\", \"tosif\", \"basit\", \"mamoon\"]\n",
    "for name in names:\n",
    "    print(name)"
   ]
  },
  {
   "cell_type": "markdown",
   "metadata": {},
   "source": [
    "Exercise3.2"
   ]
  },
  {
   "cell_type": "code",
   "execution_count": null,
   "metadata": {},
   "outputs": [],
   "source": [
    "names = [\"Anas\", \"Hassan\", \"tosif\", \"basit\", \"mamoon\"]\n",
    "for name in names:\n",
    "    print(f\"Hello {name} , how are you dear?\")"
   ]
  },
  {
   "cell_type": "markdown",
   "metadata": {},
   "source": [
    "Exercise3.3"
   ]
  },
  {
   "cell_type": "code",
   "execution_count": null,
   "metadata": {},
   "outputs": [],
   "source": [
    "transpotations_Modes=[\"Motersycle\", \"Tesla car\",\"Civic Car\" , \"Range Rover\"]\n",
    "for mode in transpotations_Modes:\n",
    "    print(f\"I would like to own a {mode}\")"
   ]
  },
  {
   "cell_type": "markdown",
   "metadata": {},
   "source": [
    "Exercise 3.4"
   ]
  },
  {
   "cell_type": "code",
   "execution_count": null,
   "metadata": {},
   "outputs": [],
   "source": [
    "Guestes:list=[\"Anas\",\"AbuBakar\",\"Basit\"];\n",
    "for guest in Guestes:\n",
    "    print(f\"Dear {guest}, you are cordially invited to dinner. I would be honored by your presence.\");"
   ]
  },
  {
   "cell_type": "markdown",
   "metadata": {},
   "source": [
    "Exercise 3.5"
   ]
  },
  {
   "cell_type": "code",
   "execution_count": null,
   "metadata": {},
   "outputs": [],
   "source": [
    "Guestes:list=[\"Anas\",\"AbuBakar\",\"Basit\"];\n",
    "for guest in Guestes:\n",
    "    print(f\"Dear {guest}, you are cordially invited to dinner. I would be honored by your presence.\");\n",
    "new_Guest=Guestes[1];\n",
    "print(f\"\\nUnfortunately, {new_Guest} can't make it to the dinner.\")\n",
    "Guestes[1] = \"Mamoon\";\n",
    "print(\"\\nNew set of invitations:\");\n",
    "for guest in Guestes:\n",
    "    print(f\"Dear {guest}, you are cordially invited to dinner. I would be honored by your presence.\");\n"
   ]
  },
  {
   "cell_type": "markdown",
   "metadata": {},
   "source": [
    "Exercise 3.6"
   ]
  },
  {
   "cell_type": "code",
   "execution_count": null,
   "metadata": {},
   "outputs": [],
   "source": [
    "Guests = [\"Anas\", \"AbuBakr\", \"Basit\"]\n",
    "for guest in Guests:\n",
    "    print(f\"Dear {guest}, you are cordially invited to dinner. I would be honored by your presence.\")\n",
    "new_Guest =  Guests[1]\n",
    "print(f\"\\nUnfortunately, {new_Guest} can't make it to the dinner.\")\n",
    "Guests[1] = \"Mamon\"\n",
    "print(\"\\nNew set of invitations after replacing a guest:\")\n",
    "for guest in Guests:\n",
    "    print(f\"Dear {guest}, you are cordially invited to dinner. I would be honored by your presence.\")\n",
    "print(\"\\nGreat news! We found a bigger table, so we can invite more guests.\")\n",
    "Guests.insert(0, \"Ahmar\")\n",
    "middle_index = len(Guests) // 2\n",
    "Guests.insert(middle_index, \"Taswar\")\n",
    "Guests.append(\"Ali\")\n",
    "print(\"\\nFinal set of invitations with additional guests:\")\n",
    "for guest in Guests:\n",
    "    print(f\"Dear {guest}, you are cordially invited to dinner. I would be honored by your presence.\")\n"
   ]
  },
  {
   "cell_type": "markdown",
   "metadata": {},
   "source": [
    "Exercise 3.7"
   ]
  },
  {
   "cell_type": "code",
   "execution_count": null,
   "metadata": {},
   "outputs": [],
   "source": [
    "Guests = [\"Anas\", \"AbuBakr\", \"Basit\"]\n",
    "for guest in Guests:\n",
    "    print(f\"Dear {guest}, you are cordially invited to dinner. I would be honored by your presence.\")\n",
    "new_Guest =  Guests[1]\n",
    "print(f\"\\nUnfortunately, {new_Guest} can't make it to the dinner.\")\n",
    "Guests[1] = \"Mamon\"\n",
    "print(\"\\nNew set of invitations after replacing a guest:\")\n",
    "for guest in Guests:\n",
    "    print(f\"Dear {guest}, you are cordially invited to dinner. I would be honored by your presence.\")\n",
    "print(\"\\nGreat news! We found a bigger table, so we can invite more guests.\")\n",
    "Guests.insert(0, \"Ahmar\")\n",
    "middle_index = len(Guests) // 2\n",
    "Guests.insert(middle_index, \"Taswar\")\n",
    "Guests.append(\"Ali\")\n",
    "print(\"\\nFinal set of invitations with additional guests:\")\n",
    "for guest in Guests:\n",
    "    print(f\"Dear {guest}, you are cordially invited to dinner. I would be honored by your presence.\")\n",
    "print(\"\\nUnfortunately, due to limited space, we can only invite two people for dinner.\")\n",
    "while len(Guests) > 2:\n",
    "    removed_guest = Guests.pop()\n",
    "    print(f\"Dear {removed_guest}, I'm sorry to inform you that we can't invite you to dinner due to space limitations.\")\n",
    "print(\"\\nYou're still invited:\")\n",
    "for guest in Guests:\n",
    "    print(f\"Dear {guest}, you're still invited to dinner. Looking forward to your company!\")\n",
    "del Guests[0]\n",
    "del Guests[0]\n",
    "# Print the list to ensure it's empty\n",
    "print(\"\\nFinal guest list:\", Guests);"
   ]
  },
  {
   "cell_type": "markdown",
   "metadata": {},
   "source": [
    "Exercise 3.8"
   ]
  },
  {
   "cell_type": "code",
   "execution_count": null,
   "metadata": {},
   "outputs": [],
   "source": [
    "places_to_visit = [\"Lahore\", \"kashmir\", \"islamabad\", \"Mauree\", \"Bahawalpur\"]\n",
    "print(\"Original list of places:\")\n",
    "print(places_to_visit)\n",
    "print(\"\\nList in alphabetical order:\")\n",
    "print(sorted(places_to_visit))\n",
    "print(\"\\nOriginal list after sorted():\")\n",
    "print(places_to_visit)\n",
    "print(\"\\nList in reverse alphabetical order:\")\n",
    "print(sorted(places_to_visit, reverse=True))\n",
    "print(\"\\nOriginal list after reverse sorted():\")\n",
    "print(places_to_visit)\n",
    "places_to_visit.reverse()\n",
    "print(\"\\nList after using reverse():\")\n",
    "print(places_to_visit)\n",
    "places_to_visit.reverse()\n",
    "print(\"\\nList after reversing again to original order:\")\n",
    "print(places_to_visit)\n",
    "places_to_visit.sort()\n",
    "print(\"\\nList after using sort():\")\n",
    "print(places_to_visit)\n"
   ]
  },
  {
   "cell_type": "markdown",
   "metadata": {},
   "source": [
    "Exercise 3.9"
   ]
  },
  {
   "cell_type": "code",
   "execution_count": null,
   "metadata": {},
   "outputs": [],
   "source": [
    "animals = [\"Elephant\", \"Giraffe\", \"Lion\", \"Zebra\", \"Kangaroo\"]\n",
    "print(\"Original list of animals:\")\n",
    "print(animals)\n",
    "print(\"\\nFirst animal in the list:\", animals[0])\n",
    "print(\"Last animal in the list:\", animals[-1])\n",
    "animals[2] = \"Tiger\"\n",
    "print(\"\\nList after modifying an element:\")\n",
    "print(animals)\n",
    "animals.append(\"Penguin\")\n",
    "print(\"\\nList after appending an element:\")\n",
    "print(animals)\n",
    "animals.insert(3, \"Panda\")\n",
    "print(\"\\nList after inserting an element:\")\n",
    "print(animals)\n",
    "animals.remove(\"Zebra\")\n",
    "print(\"\\nList after removing an element by value:\")\n",
    "print(animals)\n",
    "popped_animal = animals.pop()\n",
    "print(\"\\nList after popping the last element:\")\n",
    "print(animals)\n",
    "print(f\"Popped animal: {popped_animal}\")\n",
    "first_animal = animals.pop(0)\n",
    "print(\"\\nList after popping the first element:\")\n",
    "print(animals)\n",
    "print(f\"Popped first animal: {first_animal}\")\n",
    "del animals[1]\n",
    "print(\"\\nList after deleting an element by index:\")\n",
    "print(animals)\n",
    "print(\"\\nList in alphabetical order:\")\n",
    "print(sorted(animals))\n",
    "print(\"\\nOriginal list after sorted():\")\n",
    "print(animals)\n",
    "animals.sort()\n",
    "print(\"\\nList after using sort():\")\n",
    "print(animals)\n",
    "animals.reverse()\n",
    "print(\"\\nList after using reverse():\")\n",
    "print(animals)\n",
    "print(\"\\nNumber of animals in the list:\", len(animals))\n"
   ]
  },
  {
   "cell_type": "markdown",
   "metadata": {},
   "source": [
    "Exercise 3.10"
   ]
  },
  {
   "cell_type": "code",
   "execution_count": null,
   "metadata": {},
   "outputs": [],
   "source": [
    "animals = [\"Elephant\", \"Giraffe\", \"Lion\", \"Zebra\", \"Kangaroo\"]\n",
    "print(\"Original list of animals:\")\n",
    "print(animals)\n",
    "try:\n",
    "    print(\"\\nAttempting to access an element at an out-of-range index:\")\n",
    "    print(animals[10])  # This will cause an IndexError\n",
    "except IndexError as e:\n",
    "    print(f\"IndexError occurred: {e}\")\n",
    "print(\"\\nAccessing the last element using a valid index:\")\n",
    "print(animals[-1]) "
   ]
  }
 ],
 "metadata": {
  "kernelspec": {
   "display_name": "Python 3",
   "language": "python",
   "name": "python3"
  },
  "language_info": {
   "codemirror_mode": {
    "name": "ipython",
    "version": 3
   },
   "file_extension": ".py",
   "mimetype": "text/x-python",
   "name": "python",
   "nbconvert_exporter": "python",
   "pygments_lexer": "ipython3",
   "version": "3.12.4"
  }
 },
 "nbformat": 4,
 "nbformat_minor": 2
}
